{
  "nbformat": 4,
  "nbformat_minor": 0,
  "metadata": {
    "colab": {
      "name": "Ikea-furniture.ipynb",
      "version": "0.3.2",
      "provenance": [],
      "collapsed_sections": []
    },
    "kernelspec": {
      "name": "python3",
      "display_name": "Python 3"
    },
    "accelerator": "GPU"
  },
  "cells": [
    {
      "cell_type": "code",
      "metadata": {
        "id": "HBofuNnkPo_C",
        "colab_type": "code",
        "colab": {
          "base_uri": "https://localhost:8080/",
          "height": 127
        },
        "outputId": "e78c7677-1430-413d-f122-cec6abbade3a"
      },
      "source": [
        "from google.colab import drive\n",
        "drive.mount('/content/gdrive')"
      ],
      "execution_count": 1,
      "outputs": [
        {
          "output_type": "stream",
          "text": [
            "Go to this URL in a browser: https://accounts.google.com/o/oauth2/auth?client_id=947318989803-6bn6qk8qdgf4n4g3pfee6491hc0brc4i.apps.googleusercontent.com&redirect_uri=urn%3Aietf%3Awg%3Aoauth%3A2.0%3Aoob&scope=email%20https%3A%2F%2Fwww.googleapis.com%2Fauth%2Fdocs.test%20https%3A%2F%2Fwww.googleapis.com%2Fauth%2Fdrive%20https%3A%2F%2Fwww.googleapis.com%2Fauth%2Fdrive.photos.readonly%20https%3A%2F%2Fwww.googleapis.com%2Fauth%2Fpeopleapi.readonly&response_type=code\n",
            "\n",
            "Enter your authorization code:\n",
            "··········\n",
            "Mounted at /content/gdrive\n"
          ],
          "name": "stdout"
        }
      ]
    },
    {
      "cell_type": "code",
      "metadata": {
        "id": "ChyFroouP8GW",
        "colab_type": "code",
        "colab": {
          "base_uri": "https://localhost:8080/",
          "height": 35
        },
        "outputId": "84d1f5f9-e692-42e5-fa21-d4ebbc433471"
      },
      "source": [
        "cd gdrive/My\\ Drive"
      ],
      "execution_count": 2,
      "outputs": [
        {
          "output_type": "stream",
          "text": [
            "/content/gdrive/My Drive\n"
          ],
          "name": "stdout"
        }
      ]
    },
    {
      "cell_type": "code",
      "metadata": {
        "id": "wr5h-NWcQAIm",
        "colab_type": "code",
        "colab": {}
      },
      "source": [
        "import warnings\n",
        "warnings.filterwarnings(\"ignore\")\n",
        "\n",
        "import os\n",
        "import numpy as np # MATRIX OPERATIONS\n",
        "import pandas as pd # EFFICIENT DATA STRUCTURES\n",
        "import cv2 as cv # IMAGE PROCESSING - OPENCV\n",
        "\n",
        "\n",
        "# KERAS AND SKLEARN MODULES\n",
        "from sklearn.metrics import accuracy_score\n",
        "from keras.preprocessing.image import ImageDataGenerator\n",
        "from keras.models import Sequential\n",
        "from keras.layers import Dense, Activation, Dropout, Convolution2D, Flatten, MaxPooling2D, Reshape, InputLayer\n",
        "from keras.layers import Dense, Dropout, Flatten\n",
        "from keras.layers import Conv2D, MaxPooling2D\n",
        "from sklearn.metrics import confusion_matrix, accuracy_score\n",
        "from keras.layers import BatchNormalization\n",
        "from keras.callbacks import ModelCheckpoint,ReduceLROnPlateau,CSVLogger"
      ],
      "execution_count": 0,
      "outputs": []
    },
    {
      "cell_type": "code",
      "metadata": {
        "id": "5MvHvFPXQGm2",
        "colab_type": "code",
        "colab": {}
      },
      "source": [
        "#READING TRAIN, TEST, GROUND_TRUVTH, SAMPLE_SUBMISSION\n",
        "train = pd.read_csv(\"ikea-classification/Train/train.csv\")\n",
        "test = pd.read_csv(\"ikea-classification/test.csv\")\n",
        "ground_truth = pd.read_csv(\"ikea-classification/ground_truth.csv\")\n",
        "sample_submission = pd.read_csv(\"ikea-classification/Sample_Submission.csv\")"
      ],
      "execution_count": 0,
      "outputs": []
    },
    {
      "cell_type": "code",
      "metadata": {
        "id": "gnKCCCAmQnon",
        "colab_type": "code",
        "colab": {}
      },
      "source": [
        "#READING TRAIN IMAGES AND RESIZING THEM\n",
        "temp = []\n",
        "for img_name in train.filename:\n",
        "  image_path = os.path.join(\"ikea-classification/Train/images/train\", str(img_name))\n",
        "  img = cv.imread(image_path)\n",
        "  img = cv.cvtColor(img, cv.COLOR_RGB2GRAY)\n",
        "  img = cv.resize(img,(70,70),interpolation=cv.INTER_AREA)\n",
        "  temp.append(img)\n",
        "\n",
        "train_x = np.stack(temp)\n",
        "\n",
        "train_x = train_x.reshape(train_x.shape[0], 70, 70, 1).astype('float32')\n",
        "train_x /= 255.0"
      ],
      "execution_count": 0,
      "outputs": []
    },
    {
      "cell_type": "code",
      "metadata": {
        "id": "jhgG1L3SRFPS",
        "colab_type": "code",
        "colab": {}
      },
      "source": [
        "#READING TEST IMAGES AND RESIZING THEM\n",
        "temp = []\n",
        "for img_name in test.filename:\n",
        "  image_path = os.path.join(\"ikea-classification/Train/images/test\", str(img_name))\n",
        "  img = cv.imread(image_path)\n",
        "  img = cv.cvtColor(img, cv.COLOR_RGB2GRAY)\n",
        "  img = cv.resize(img,(70,70),interpolation=cv.INTER_AREA)\n",
        "  temp.append(img)\n",
        "\n",
        "test_x = np.stack(temp)\n",
        "\n",
        "test_x = test_x.reshape(test_x.shape[0], 70, 70, 1).astype('float32')\n",
        "test_x /= 255.0"
      ],
      "execution_count": 0,
      "outputs": []
    },
    {
      "cell_type": "code",
      "metadata": {
        "id": "6kJUQZakRgHw",
        "colab_type": "code",
        "colab": {}
      },
      "source": [
        "train_y = keras.utils.np_utils.to_categorical(train.label.values)\n",
        "split_size = int(train_x.shape[0]*0.7)\n",
        "\n",
        "train_x, val_x = train_x[:split_size], train_x[split_size:]\n",
        "train_y, val_y = train_y[:split_size], train_y[split_size:]"
      ],
      "execution_count": 0,
      "outputs": []
    },
    {
      "cell_type": "code",
      "metadata": {
        "id": "e5yQT282Rg_D",
        "colab_type": "code",
        "colab": {}
      },
      "source": [
        "# reshape data\n",
        "\n",
        "train_x_temp = train_x.reshape(train_x.shape[0], 70, 70, 1)\n",
        "val_x_temp = val_x.reshape(val_x.shape[0], 70, 70, 1)"
      ],
      "execution_count": 0,
      "outputs": []
    },
    {
      "cell_type": "code",
      "metadata": {
        "id": "sG3PO6f2sFW9",
        "colab_type": "code",
        "colab": {}
      },
      "source": [
        "generator = ImageDataGenerator(rotation_range = 180,zoom_range = 0.1,width_shift_range = 0.1,height_shift_range = 0.1,horizontal_flip = True,vertical_flip = True)\n",
        "generator.fit(train_x_temp)"
      ],
      "execution_count": 0,
      "outputs": []
    },
    {
      "cell_type": "code",
      "metadata": {
        "id": "pY2wF8HwRkFn",
        "colab_type": "code",
        "colab": {
          "base_uri": "https://localhost:8080/",
          "height": 1079
        },
        "outputId": "52e32ece-0e16-43d5-ff44-9c4097f66fdc"
      },
      "source": [
        "model = Sequential()\n",
        "\n",
        "model.add(Conv2D(filters=64, kernel_size=(2, 2), input_shape=(70, 70, 1), activation='relu'))\n",
        "model.add(BatchNormalization(axis=3))\n",
        "model.add(Conv2D(filters=64, kernel_size=(2, 2), activation='relu'))\n",
        "model.add(MaxPooling2D((2, 2)))\n",
        "model.add(BatchNormalization(axis=3))\n",
        "model.add(Dropout(0.1))\n",
        "\n",
        "model.add(Conv2D(filters=128, kernel_size=(2, 2), activation='relu'))\n",
        "model.add(BatchNormalization(axis=3))\n",
        "model.add(Conv2D(filters=128, kernel_size=(2, 2), activation='relu'))\n",
        "model.add(MaxPooling2D((2, 2)))\n",
        "model.add(BatchNormalization(axis=3))\n",
        "model.add(Dropout(0.1))\n",
        "\n",
        "\n",
        "model.add(Conv2D(filters=256, kernel_size=(2, 2), activation='relu'))\n",
        "model.add(BatchNormalization(axis=3))\n",
        "model.add(Conv2D(filters=256, kernel_size=(2, 2), activation='relu'))\n",
        "model.add(MaxPooling2D((2, 2)))\n",
        "model.add(BatchNormalization(axis=3))\n",
        "model.add(Dropout(0.1))\n",
        "\n",
        "model.add(Flatten())\n",
        "\n",
        "model.add(Dense(256, activation='relu'))\n",
        "model.add(BatchNormalization())\n",
        "model.add(Dropout(0.5))\n",
        "\n",
        "model.add(Dense(256, activation='relu'))\n",
        "model.add(BatchNormalization())\n",
        "model.add(Dropout(0.5))\n",
        "\n",
        "model.add(Dense(4, activation='softmax'))\n",
        "\n",
        "model.compile(loss='categorical_crossentropy', optimizer='adam', metrics=['accuracy'])\n",
        "\n",
        "model.summary()"
      ],
      "execution_count": 17,
      "outputs": [
        {
          "output_type": "stream",
          "text": [
            "_________________________________________________________________\n",
            "Layer (type)                 Output Shape              Param #   \n",
            "=================================================================\n",
            "conv2d_7 (Conv2D)            (None, 69, 69, 64)        320       \n",
            "_________________________________________________________________\n",
            "batch_normalization_9 (Batch (None, 69, 69, 64)        256       \n",
            "_________________________________________________________________\n",
            "conv2d_8 (Conv2D)            (None, 68, 68, 64)        16448     \n",
            "_________________________________________________________________\n",
            "max_pooling2d_4 (MaxPooling2 (None, 34, 34, 64)        0         \n",
            "_________________________________________________________________\n",
            "batch_normalization_10 (Batc (None, 34, 34, 64)        256       \n",
            "_________________________________________________________________\n",
            "dropout_6 (Dropout)          (None, 34, 34, 64)        0         \n",
            "_________________________________________________________________\n",
            "conv2d_9 (Conv2D)            (None, 33, 33, 128)       32896     \n",
            "_________________________________________________________________\n",
            "batch_normalization_11 (Batc (None, 33, 33, 128)       512       \n",
            "_________________________________________________________________\n",
            "conv2d_10 (Conv2D)           (None, 32, 32, 128)       65664     \n",
            "_________________________________________________________________\n",
            "max_pooling2d_5 (MaxPooling2 (None, 16, 16, 128)       0         \n",
            "_________________________________________________________________\n",
            "batch_normalization_12 (Batc (None, 16, 16, 128)       512       \n",
            "_________________________________________________________________\n",
            "dropout_7 (Dropout)          (None, 16, 16, 128)       0         \n",
            "_________________________________________________________________\n",
            "conv2d_11 (Conv2D)           (None, 15, 15, 256)       131328    \n",
            "_________________________________________________________________\n",
            "batch_normalization_13 (Batc (None, 15, 15, 256)       1024      \n",
            "_________________________________________________________________\n",
            "conv2d_12 (Conv2D)           (None, 14, 14, 256)       262400    \n",
            "_________________________________________________________________\n",
            "max_pooling2d_6 (MaxPooling2 (None, 7, 7, 256)         0         \n",
            "_________________________________________________________________\n",
            "batch_normalization_14 (Batc (None, 7, 7, 256)         1024      \n",
            "_________________________________________________________________\n",
            "dropout_8 (Dropout)          (None, 7, 7, 256)         0         \n",
            "_________________________________________________________________\n",
            "flatten_2 (Flatten)          (None, 12544)             0         \n",
            "_________________________________________________________________\n",
            "dense_4 (Dense)              (None, 256)               3211520   \n",
            "_________________________________________________________________\n",
            "batch_normalization_15 (Batc (None, 256)               1024      \n",
            "_________________________________________________________________\n",
            "dropout_9 (Dropout)          (None, 256)               0         \n",
            "_________________________________________________________________\n",
            "dense_5 (Dense)              (None, 256)               65792     \n",
            "_________________________________________________________________\n",
            "batch_normalization_16 (Batc (None, 256)               1024      \n",
            "_________________________________________________________________\n",
            "dropout_10 (Dropout)         (None, 256)               0         \n",
            "_________________________________________________________________\n",
            "dense_6 (Dense)              (None, 4)                 1028      \n",
            "=================================================================\n",
            "Total params: 3,793,028\n",
            "Trainable params: 3,790,212\n",
            "Non-trainable params: 2,816\n",
            "_________________________________________________________________\n"
          ],
          "name": "stdout"
        }
      ]
    },
    {
      "cell_type": "code",
      "metadata": {
        "id": "rOx3MmsRRr9G",
        "colab_type": "code",
        "colab": {
          "base_uri": "https://localhost:8080/",
          "height": 4033
        },
        "outputId": "86ecf92c-d7c5-48a4-bc91-212aad0beca8"
      },
      "source": [
        "# SETTING UP CHECKPOINTS, CALLBACKS AND REDUCING LEARNING RATE\n",
        "lrr = ReduceLROnPlateau(monitor='val_acc', \n",
        "                        patience=3, \n",
        "                        verbose=1, \n",
        "                        factor=0.4, \n",
        "                        min_lr=0.00001)\n",
        "\n",
        "filepath=\"ikea-classification/model_weights/weights.best_{epoch:02d}-{val_acc:.2f}.hdf5\"\n",
        "checkpoints = ModelCheckpoint(filepath, monitor='val_acc', \n",
        "                              verbose=1, save_best_only=True, mode='max')\n",
        "filepath=\"ikea-classification/model_weights/weights.last_auto4.hdf5\"\n",
        "checkpoints_full = ModelCheckpoint(filepath, monitor='val_acc', \n",
        "                                 verbose=1, save_best_only=False, mode='max')\n",
        "callbacks_list = [checkpoints, lrr, checkpoints_full]\n",
        "\n",
        "model.compile(loss='categorical_crossentropy', optimizer='adam', metrics=['accuracy'])\n",
        "trained_model_conv = model.fit_generator(generator.flow(train_x_temp, train_y, batch_size=75), \n",
        "                           epochs=35, validation_data=(val_x_temp, val_y), \n",
        "                           steps_per_epoch=train_x_temp.shape[0], callbacks=callbacks_list)\n",
        "\n",
        "\n",
        "\n",
        "# model.compile(loss='categorical_crossentropy', optimizer='adam', metrics=['accuracy'])\n",
        "# trained_model_conv = model.fit(train_x_temp, train_y, nb_epoch=epochs, batch_size=batch_size, validation_data=(val_x_temp, val_y))"
      ],
      "execution_count": 18,
      "outputs": [
        {
          "output_type": "stream",
          "text": [
            "Epoch 1/35\n",
            "814/814 [==============================] - 67s 83ms/step - loss: 0.6201 - acc: 0.7706 - val_loss: 6.6881 - val_acc: 0.0000e+00\n",
            "\n",
            "Epoch 00001: val_acc improved from -inf to 0.00000, saving model to ikea-classification/weights.best_01-0.00.hdf5\n",
            "\n",
            "Epoch 00001: saving model to ikea-classification/weights.last_auto4.hdf5\n",
            "Epoch 2/35\n",
            "814/814 [==============================] - 66s 81ms/step - loss: 0.3162 - acc: 0.8792 - val_loss: 11.1300 - val_acc: 0.0000e+00\n",
            "\n",
            "Epoch 00002: val_acc did not improve from 0.00000\n",
            "\n",
            "Epoch 00002: saving model to ikea-classification/weights.last_auto4.hdf5\n",
            "Epoch 3/35\n",
            "814/814 [==============================] - 66s 82ms/step - loss: 0.2062 - acc: 0.9236 - val_loss: 5.4876 - val_acc: 0.3381\n",
            "\n",
            "Epoch 00003: val_acc improved from 0.00000 to 0.33811, saving model to ikea-classification/weights.best_03-0.34.hdf5\n",
            "\n",
            "Epoch 00003: saving model to ikea-classification/weights.last_auto4.hdf5\n",
            "Epoch 4/35\n",
            "814/814 [==============================] - 66s 81ms/step - loss: 0.1372 - acc: 0.9487 - val_loss: 11.2746 - val_acc: 0.0000e+00\n",
            "\n",
            "Epoch 00004: val_acc did not improve from 0.33811\n",
            "\n",
            "Epoch 00004: saving model to ikea-classification/weights.last_auto4.hdf5\n",
            "Epoch 5/35\n",
            "814/814 [==============================] - 66s 82ms/step - loss: 0.1023 - acc: 0.9620 - val_loss: 13.5376 - val_acc: 0.0000e+00\n",
            "\n",
            "Epoch 00005: val_acc did not improve from 0.33811\n",
            "\n",
            "Epoch 00005: saving model to ikea-classification/weights.last_auto4.hdf5\n",
            "Epoch 6/35\n",
            "814/814 [==============================] - 66s 81ms/step - loss: 0.0788 - acc: 0.9711 - val_loss: 14.2068 - val_acc: 0.0000e+00\n",
            "\n",
            "Epoch 00006: val_acc did not improve from 0.33811\n",
            "\n",
            "Epoch 00006: ReduceLROnPlateau reducing learning rate to 0.0004000000189989805.\n",
            "\n",
            "Epoch 00006: saving model to ikea-classification/weights.last_auto4.hdf5\n",
            "Epoch 7/35\n",
            "814/814 [==============================] - 66s 81ms/step - loss: 0.0414 - acc: 0.9841 - val_loss: 15.2971 - val_acc: 0.0000e+00\n",
            "\n",
            "Epoch 00007: val_acc did not improve from 0.33811\n",
            "\n",
            "Epoch 00007: saving model to ikea-classification/weights.last_auto4.hdf5\n",
            "Epoch 8/35\n",
            "814/814 [==============================] - 66s 82ms/step - loss: 0.0337 - acc: 0.9869 - val_loss: 14.1589 - val_acc: 0.0000e+00\n",
            "\n",
            "Epoch 00008: val_acc did not improve from 0.33811\n",
            "\n",
            "Epoch 00008: saving model to ikea-classification/weights.last_auto4.hdf5\n",
            "Epoch 9/35\n",
            "814/814 [==============================] - 66s 81ms/step - loss: 0.0318 - acc: 0.9874 - val_loss: 14.3662 - val_acc: 0.0000e+00\n",
            "\n",
            "Epoch 00009: val_acc did not improve from 0.33811\n",
            "\n",
            "Epoch 00009: ReduceLROnPlateau reducing learning rate to 0.00016000000759959222.\n",
            "\n",
            "Epoch 00009: saving model to ikea-classification/weights.last_auto4.hdf5\n",
            "Epoch 10/35\n",
            "814/814 [==============================] - 66s 81ms/step - loss: 0.0221 - acc: 0.9908 - val_loss: 9.8615 - val_acc: 0.2063\n",
            "\n",
            "Epoch 00010: val_acc did not improve from 0.33811\n",
            "\n",
            "Epoch 00010: saving model to ikea-classification/weights.last_auto4.hdf5\n",
            "Epoch 11/35\n",
            "814/814 [==============================] - 66s 81ms/step - loss: 0.0188 - acc: 0.9919 - val_loss: 9.3765 - val_acc: 0.1777\n",
            "\n",
            "Epoch 00011: val_acc did not improve from 0.33811\n",
            "\n",
            "Epoch 00011: saving model to ikea-classification/weights.last_auto4.hdf5\n",
            "Epoch 12/35\n",
            "814/814 [==============================] - 66s 81ms/step - loss: 0.0179 - acc: 0.9923 - val_loss: 11.8772 - val_acc: 0.0401\n",
            "\n",
            "Epoch 00012: val_acc did not improve from 0.33811\n",
            "\n",
            "Epoch 00012: ReduceLROnPlateau reducing learning rate to 6.40000042039901e-05.\n",
            "\n",
            "Epoch 00012: saving model to ikea-classification/weights.last_auto4.hdf5\n",
            "Epoch 13/35\n",
            "814/814 [==============================] - 66s 81ms/step - loss: 0.0154 - acc: 0.9933 - val_loss: 9.6452 - val_acc: 0.2235\n",
            "\n",
            "Epoch 00013: val_acc did not improve from 0.33811\n",
            "\n",
            "Epoch 00013: saving model to ikea-classification/weights.last_auto4.hdf5\n",
            "Epoch 14/35\n",
            "814/814 [==============================] - 67s 82ms/step - loss: 0.0136 - acc: 0.9937 - val_loss: 9.8659 - val_acc: 0.1920\n",
            "\n",
            "Epoch 00014: val_acc did not improve from 0.33811\n",
            "\n",
            "Epoch 00014: saving model to ikea-classification/weights.last_auto4.hdf5\n",
            "Epoch 15/35\n",
            "814/814 [==============================] - 66s 81ms/step - loss: 0.0144 - acc: 0.9934 - val_loss: 11.0221 - val_acc: 0.1203\n",
            "\n",
            "Epoch 00015: val_acc did not improve from 0.33811\n",
            "\n",
            "Epoch 00015: ReduceLROnPlateau reducing learning rate to 2.560000284574926e-05.\n",
            "\n",
            "Epoch 00015: saving model to ikea-classification/weights.last_auto4.hdf5\n",
            "Epoch 16/35\n",
            "814/814 [==============================] - 66s 82ms/step - loss: 0.0129 - acc: 0.9939 - val_loss: 15.1159 - val_acc: 0.0000e+00\n",
            "\n",
            "Epoch 00016: val_acc did not improve from 0.33811\n",
            "\n",
            "Epoch 00016: saving model to ikea-classification/weights.last_auto4.hdf5\n",
            "Epoch 17/35\n",
            "814/814 [==============================] - 66s 81ms/step - loss: 0.0133 - acc: 0.9935 - val_loss: 9.9673 - val_acc: 0.1948\n",
            "\n",
            "Epoch 00017: val_acc did not improve from 0.33811\n",
            "\n",
            "Epoch 00017: saving model to ikea-classification/weights.last_auto4.hdf5\n",
            "Epoch 18/35\n",
            "814/814 [==============================] - 66s 81ms/step - loss: 0.0128 - acc: 0.9939 - val_loss: 10.2082 - val_acc: 0.1977\n",
            "\n",
            "Epoch 00018: val_acc did not improve from 0.33811\n",
            "\n",
            "Epoch 00018: ReduceLROnPlateau reducing learning rate to 1.0240000847261399e-05.\n",
            "\n",
            "Epoch 00018: saving model to ikea-classification/weights.last_auto4.hdf5\n",
            "Epoch 19/35\n",
            "814/814 [==============================] - 66s 81ms/step - loss: 0.0128 - acc: 0.9937 - val_loss: 9.8677 - val_acc: 0.2206\n",
            "\n",
            "Epoch 00019: val_acc did not improve from 0.33811\n",
            "\n",
            "Epoch 00019: saving model to ikea-classification/weights.last_auto4.hdf5\n",
            "Epoch 20/35\n",
            "814/814 [==============================] - 66s 82ms/step - loss: 0.0122 - acc: 0.9941 - val_loss: 9.9065 - val_acc: 0.2006\n",
            "\n",
            "Epoch 00020: val_acc did not improve from 0.33811\n",
            "\n",
            "Epoch 00020: saving model to ikea-classification/weights.last_auto4.hdf5\n",
            "Epoch 21/35\n",
            "814/814 [==============================] - 66s 81ms/step - loss: 0.0122 - acc: 0.9943 - val_loss: 10.2003 - val_acc: 0.2006\n",
            "\n",
            "Epoch 00021: val_acc did not improve from 0.33811\n",
            "\n",
            "Epoch 00021: ReduceLROnPlateau reducing learning rate to 1e-05.\n",
            "\n",
            "Epoch 00021: saving model to ikea-classification/weights.last_auto4.hdf5\n",
            "Epoch 22/35\n",
            "814/814 [==============================] - 66s 81ms/step - loss: 0.0126 - acc: 0.9938 - val_loss: 10.0162 - val_acc: 0.2063\n",
            "\n",
            "Epoch 00022: val_acc did not improve from 0.33811\n",
            "\n",
            "Epoch 00022: saving model to ikea-classification/weights.last_auto4.hdf5\n",
            "Epoch 23/35\n",
            "814/814 [==============================] - 66s 81ms/step - loss: 0.0121 - acc: 0.9942 - val_loss: 10.0659 - val_acc: 0.1977\n",
            "\n",
            "Epoch 00023: val_acc did not improve from 0.33811\n",
            "\n",
            "Epoch 00023: saving model to ikea-classification/weights.last_auto4.hdf5\n",
            "Epoch 24/35\n",
            "814/814 [==============================] - 66s 81ms/step - loss: 0.0125 - acc: 0.9938 - val_loss: 10.2429 - val_acc: 0.1948\n",
            "\n",
            "Epoch 00024: val_acc did not improve from 0.33811\n",
            "\n",
            "Epoch 00024: saving model to ikea-classification/weights.last_auto4.hdf5\n",
            "Epoch 25/35\n",
            "814/814 [==============================] - 66s 82ms/step - loss: 0.0117 - acc: 0.9942 - val_loss: 9.9714 - val_acc: 0.2063\n",
            "\n",
            "Epoch 00025: val_acc did not improve from 0.33811\n",
            "\n",
            "Epoch 00025: saving model to ikea-classification/weights.last_auto4.hdf5\n",
            "Epoch 26/35\n",
            "814/814 [==============================] - 66s 81ms/step - loss: 0.0117 - acc: 0.9942 - val_loss: 9.9316 - val_acc: 0.2120\n",
            "\n",
            "Epoch 00026: val_acc did not improve from 0.33811\n",
            "\n",
            "Epoch 00026: saving model to ikea-classification/weights.last_auto4.hdf5\n",
            "Epoch 27/35\n",
            "814/814 [==============================] - 66s 81ms/step - loss: 0.0118 - acc: 0.9944 - val_loss: 9.8801 - val_acc: 0.2120\n",
            "\n",
            "Epoch 00027: val_acc did not improve from 0.33811\n",
            "\n",
            "Epoch 00027: saving model to ikea-classification/weights.last_auto4.hdf5\n",
            "Epoch 28/35\n",
            "814/814 [==============================] - 66s 81ms/step - loss: 0.0121 - acc: 0.9939 - val_loss: 10.0322 - val_acc: 0.2063\n",
            "\n",
            "Epoch 00028: val_acc did not improve from 0.33811\n",
            "\n",
            "Epoch 00028: saving model to ikea-classification/weights.last_auto4.hdf5\n",
            "Epoch 29/35\n",
            "814/814 [==============================] - 66s 81ms/step - loss: 0.0120 - acc: 0.9941 - val_loss: 9.9765 - val_acc: 0.2063\n",
            "\n",
            "Epoch 00029: val_acc did not improve from 0.33811\n",
            "\n",
            "Epoch 00029: saving model to ikea-classification/weights.last_auto4.hdf5\n",
            "Epoch 30/35\n",
            "814/814 [==============================] - 66s 82ms/step - loss: 0.0123 - acc: 0.9939 - val_loss: 10.3984 - val_acc: 0.1805\n",
            "\n",
            "Epoch 00030: val_acc did not improve from 0.33811\n",
            "\n",
            "Epoch 00030: saving model to ikea-classification/weights.last_auto4.hdf5\n",
            "Epoch 31/35\n",
            "814/814 [==============================] - 66s 81ms/step - loss: 0.0124 - acc: 0.9938 - val_loss: 9.8782 - val_acc: 0.2206\n",
            "\n",
            "Epoch 00031: val_acc did not improve from 0.33811\n",
            "\n",
            "Epoch 00031: saving model to ikea-classification/weights.last_auto4.hdf5\n",
            "Epoch 32/35\n",
            "814/814 [==============================] - 66s 81ms/step - loss: 0.0113 - acc: 0.9942 - val_loss: 9.8986 - val_acc: 0.2120\n",
            "\n",
            "Epoch 00032: val_acc did not improve from 0.33811\n",
            "\n",
            "Epoch 00032: saving model to ikea-classification/weights.last_auto4.hdf5\n",
            "Epoch 33/35\n",
            "814/814 [==============================] - 66s 81ms/step - loss: 0.0117 - acc: 0.9941 - val_loss: 9.8103 - val_acc: 0.2034\n",
            "\n",
            "Epoch 00033: val_acc did not improve from 0.33811\n",
            "\n",
            "Epoch 00033: saving model to ikea-classification/weights.last_auto4.hdf5\n",
            "Epoch 34/35\n",
            "814/814 [==============================] - 66s 81ms/step - loss: 0.0116 - acc: 0.9940 - val_loss: 9.9834 - val_acc: 0.2063\n",
            "\n",
            "Epoch 00034: val_acc did not improve from 0.33811\n",
            "\n",
            "Epoch 00034: saving model to ikea-classification/weights.last_auto4.hdf5\n",
            "Epoch 35/35\n",
            "814/814 [==============================] - 66s 81ms/step - loss: 0.0121 - acc: 0.9941 - val_loss: 10.0705 - val_acc: 0.2092\n",
            "\n",
            "Epoch 00035: val_acc did not improve from 0.33811\n",
            "\n",
            "Epoch 00035: saving model to ikea-classification/weights.last_auto4.hdf5\n"
          ],
          "name": "stdout"
        }
      ]
    },
    {
      "cell_type": "code",
      "metadata": {
        "id": "D2p2bTSayZMp",
        "colab_type": "code",
        "colab": {}
      },
      "source": [
        "pred = model.predict_classes(test_x)"
      ],
      "execution_count": 0,
      "outputs": []
    },
    {
      "cell_type": "code",
      "metadata": {
        "id": "4EI6O7nF-k5Q",
        "colab_type": "code",
        "colab": {}
      },
      "source": [
        "y_actual = ground_truth.label.values"
      ],
      "execution_count": 0,
      "outputs": []
    },
    {
      "cell_type": "code",
      "metadata": {
        "id": "Rn23334w_Jp3",
        "colab_type": "code",
        "colab": {
          "base_uri": "https://localhost:8080/",
          "height": 89
        },
        "outputId": "4b6fb57c-2290-446f-f885-796dc47f4c71"
      },
      "source": [
        "#Compute the confusion matrices\n",
        "cmatrix = confusion_matrix(y_actual, pred)\n",
        "print(cmatrix)"
      ],
      "execution_count": 21,
      "outputs": [
        {
          "output_type": "stream",
          "text": [
            "[[15 41  5  3]\n",
            " [ 0 62  0  0]\n",
            " [ 0  0 26  0]\n",
            " [ 0  0  0 48]]\n"
          ],
          "name": "stdout"
        }
      ]
    },
    {
      "cell_type": "code",
      "metadata": {
        "id": "KXs3eU_qIxqu",
        "colab_type": "code",
        "colab": {}
      },
      "source": [
        "sample_submission.filename = test.filename; sample_submission.label = pred\n",
        "sample_submission.to_csv('ikea-classification/Submission.csv', index=False)"
      ],
      "execution_count": 0,
      "outputs": []
    }
  ]
}